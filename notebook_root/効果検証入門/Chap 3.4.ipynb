{
 "cells": [
  {
   "cell_type": "markdown",
   "metadata": {},
   "source": [
    "# Chap 3 傾向スコアを用いた分析\n",
    "\n",
    "## 3.4 LaLondeデータセットの分析"
   ]
  },
  {
   "cell_type": "code",
   "execution_count": 2,
   "metadata": {},
   "outputs": [
    {
     "name": "stdout",
     "output_type": "stream",
     "text": [
      "--2020-04-19 22:02:42--  https://users.nber.org/~rdehejia/data/cps_controls.dta\n",
      "users.nber.org (users.nber.org) をDNSに問いあわせています... 198.71.6.35\n",
      "users.nber.org (users.nber.org)|198.71.6.35|:443 に接続しています... 接続しました。\n",
      "HTTP による接続要求を送信しました、応答を待っています... 200 OK\n",
      "長さ: 705546 (689K)\n",
      "`cps_controls.dta.1' に保存中\n",
      "\n",
      "cps_controls.dta.1  100%[===================>] 689.01K   282KB/s 時間 2.4s       \n",
      "\n",
      "2020-04-19 22:02:47 (282 KB/s) - `cps_controls.dta.1' へ保存完了 [705546/705546]\n",
      "\n"
     ]
    }
   ],
   "source": [
    "!wget https://users.nber.org/~rdehejia/data/cps_controls.dta"
   ]
  },
  {
   "cell_type": "code",
   "execution_count": 3,
   "metadata": {
    "scrolled": true
   },
   "outputs": [
    {
     "name": "stdout",
     "output_type": "stream",
     "text": [
      "--2020-04-19 22:02:50--  https://users.nber.org/~rdehejia/data/cps_controls3.dta\n",
      "users.nber.org (users.nber.org) をDNSに問いあわせています... 198.71.6.35\n",
      "users.nber.org (users.nber.org)|198.71.6.35|:443 に接続しています... 接続しました。\n",
      "HTTP による接続要求を送信しました、応答を待っています... 200 OK\n",
      "長さ: 20774 (20K)\n",
      "`cps_controls3.dta.1' に保存中\n",
      "\n",
      "cps_controls3.dta.1 100%[===================>]  20.29K   113KB/s 時間 0.2s       \n",
      "\n",
      "2020-04-19 22:02:51 (113 KB/s) - `cps_controls3.dta.1' へ保存完了 [20774/20774]\n",
      "\n"
     ]
    }
   ],
   "source": [
    "!wget https://users.nber.org/~rdehejia/data/cps_controls3.dta"
   ]
  },
  {
   "cell_type": "code",
   "execution_count": 4,
   "metadata": {},
   "outputs": [
    {
     "name": "stdout",
     "output_type": "stream",
     "text": [
      "--2020-04-19 22:02:51--  https://users.nber.org/~rdehejia/data/nsw_dw.dta\n",
      "users.nber.org (users.nber.org) をDNSに問いあわせています... 198.71.6.35\n",
      "users.nber.org (users.nber.org)|198.71.6.35|:443 に接続しています... 接続しました。\n",
      "HTTP による接続要求を送信しました、応答を待っています... 200 OK\n",
      "長さ: 28598 (28K)\n",
      "`nsw_dw.dta.1' に保存中\n",
      "\n",
      "nsw_dw.dta.1        100%[===================>]  27.93K   154KB/s 時間 0.2s       \n",
      "\n",
      "2020-04-19 22:02:52 (154 KB/s) - `nsw_dw.dta.1' へ保存完了 [28598/28598]\n",
      "\n"
     ]
    }
   ],
   "source": [
    "!wget https://users.nber.org/~rdehejia/data/nsw_dw.dta"
   ]
  },
  {
   "cell_type": "code",
   "execution_count": 5,
   "metadata": {},
   "outputs": [],
   "source": [
    "# 別のデータ \n",
    "cps1_data = pd.read_stata('./cps_controls.dta')\n",
    "cps3_data = pd.read_stata('./cps_controls3.dta')\n",
    "# RCTしたデータ (treat + control)\n",
    "nswdw_data = pd.read_stata('./nsw_dw.dta')"
   ]
  },
  {
   "cell_type": "code",
   "execution_count": 6,
   "metadata": {},
   "outputs": [
    {
     "data": {
      "text/html": [
       "<div>\n",
       "<style scoped>\n",
       "    .dataframe tbody tr th:only-of-type {\n",
       "        vertical-align: middle;\n",
       "    }\n",
       "\n",
       "    .dataframe tbody tr th {\n",
       "        vertical-align: top;\n",
       "    }\n",
       "\n",
       "    .dataframe thead th {\n",
       "        text-align: right;\n",
       "    }\n",
       "</style>\n",
       "<table border=\"1\" class=\"dataframe\">\n",
       "  <thead>\n",
       "    <tr style=\"text-align: right;\">\n",
       "      <th></th>\n",
       "      <th>data_id</th>\n",
       "      <th>treat</th>\n",
       "      <th>age</th>\n",
       "      <th>education</th>\n",
       "      <th>black</th>\n",
       "      <th>hispanic</th>\n",
       "      <th>married</th>\n",
       "      <th>nodegree</th>\n",
       "      <th>re74</th>\n",
       "      <th>re75</th>\n",
       "      <th>re78</th>\n",
       "    </tr>\n",
       "  </thead>\n",
       "  <tbody>\n",
       "    <tr>\n",
       "      <th>0</th>\n",
       "      <td>CPS1</td>\n",
       "      <td>0.0</td>\n",
       "      <td>45.0</td>\n",
       "      <td>11.0</td>\n",
       "      <td>0.0</td>\n",
       "      <td>0.0</td>\n",
       "      <td>1.0</td>\n",
       "      <td>1.0</td>\n",
       "      <td>21516.669922</td>\n",
       "      <td>25243.550781</td>\n",
       "      <td>25564.669922</td>\n",
       "    </tr>\n",
       "    <tr>\n",
       "      <th>1</th>\n",
       "      <td>CPS1</td>\n",
       "      <td>0.0</td>\n",
       "      <td>21.0</td>\n",
       "      <td>14.0</td>\n",
       "      <td>0.0</td>\n",
       "      <td>0.0</td>\n",
       "      <td>0.0</td>\n",
       "      <td>0.0</td>\n",
       "      <td>3175.970947</td>\n",
       "      <td>5852.564941</td>\n",
       "      <td>13496.080078</td>\n",
       "    </tr>\n",
       "    <tr>\n",
       "      <th>2</th>\n",
       "      <td>CPS1</td>\n",
       "      <td>0.0</td>\n",
       "      <td>38.0</td>\n",
       "      <td>12.0</td>\n",
       "      <td>0.0</td>\n",
       "      <td>0.0</td>\n",
       "      <td>1.0</td>\n",
       "      <td>0.0</td>\n",
       "      <td>23039.019531</td>\n",
       "      <td>25130.759766</td>\n",
       "      <td>25564.669922</td>\n",
       "    </tr>\n",
       "    <tr>\n",
       "      <th>3</th>\n",
       "      <td>CPS1</td>\n",
       "      <td>0.0</td>\n",
       "      <td>48.0</td>\n",
       "      <td>6.0</td>\n",
       "      <td>0.0</td>\n",
       "      <td>0.0</td>\n",
       "      <td>1.0</td>\n",
       "      <td>1.0</td>\n",
       "      <td>24994.369141</td>\n",
       "      <td>25243.550781</td>\n",
       "      <td>25564.669922</td>\n",
       "    </tr>\n",
       "    <tr>\n",
       "      <th>4</th>\n",
       "      <td>CPS1</td>\n",
       "      <td>0.0</td>\n",
       "      <td>18.0</td>\n",
       "      <td>8.0</td>\n",
       "      <td>0.0</td>\n",
       "      <td>0.0</td>\n",
       "      <td>1.0</td>\n",
       "      <td>1.0</td>\n",
       "      <td>1669.295044</td>\n",
       "      <td>10727.610352</td>\n",
       "      <td>9860.869141</td>\n",
       "    </tr>\n",
       "  </tbody>\n",
       "</table>\n",
       "</div>"
      ],
      "text/plain": [
       "  data_id  treat   age  education  black  hispanic  married  nodegree  \\\n",
       "0    CPS1    0.0  45.0       11.0    0.0       0.0      1.0       1.0   \n",
       "1    CPS1    0.0  21.0       14.0    0.0       0.0      0.0       0.0   \n",
       "2    CPS1    0.0  38.0       12.0    0.0       0.0      1.0       0.0   \n",
       "3    CPS1    0.0  48.0        6.0    0.0       0.0      1.0       1.0   \n",
       "4    CPS1    0.0  18.0        8.0    0.0       0.0      1.0       1.0   \n",
       "\n",
       "           re74          re75          re78  \n",
       "0  21516.669922  25243.550781  25564.669922  \n",
       "1   3175.970947   5852.564941  13496.080078  \n",
       "2  23039.019531  25130.759766  25564.669922  \n",
       "3  24994.369141  25243.550781  25564.669922  \n",
       "4   1669.295044  10727.610352   9860.869141  "
      ]
     },
     "execution_count": 6,
     "metadata": {},
     "output_type": "execute_result"
    }
   ],
   "source": [
    "cps1_data.head()"
   ]
  },
  {
   "cell_type": "code",
   "execution_count": 7,
   "metadata": {},
   "outputs": [
    {
     "data": {
      "text/plain": [
       "0.0"
      ]
     },
     "execution_count": 7,
     "metadata": {},
     "output_type": "execute_result"
    }
   ],
   "source": [
    "cps1_data.treat.mean()"
   ]
  },
  {
   "cell_type": "code",
   "execution_count": 8,
   "metadata": {},
   "outputs": [
    {
     "data": {
      "text/html": [
       "<div>\n",
       "<style scoped>\n",
       "    .dataframe tbody tr th:only-of-type {\n",
       "        vertical-align: middle;\n",
       "    }\n",
       "\n",
       "    .dataframe tbody tr th {\n",
       "        vertical-align: top;\n",
       "    }\n",
       "\n",
       "    .dataframe thead th {\n",
       "        text-align: right;\n",
       "    }\n",
       "</style>\n",
       "<table border=\"1\" class=\"dataframe\">\n",
       "  <thead>\n",
       "    <tr style=\"text-align: right;\">\n",
       "      <th></th>\n",
       "      <th>data_id</th>\n",
       "      <th>treat</th>\n",
       "      <th>age</th>\n",
       "      <th>education</th>\n",
       "      <th>black</th>\n",
       "      <th>hispanic</th>\n",
       "      <th>married</th>\n",
       "      <th>nodegree</th>\n",
       "      <th>re74</th>\n",
       "      <th>re75</th>\n",
       "      <th>re78</th>\n",
       "    </tr>\n",
       "  </thead>\n",
       "  <tbody>\n",
       "    <tr>\n",
       "      <th>0</th>\n",
       "      <td>Dehejia-Wahba Sample</td>\n",
       "      <td>1.0</td>\n",
       "      <td>37.0</td>\n",
       "      <td>11.0</td>\n",
       "      <td>1.0</td>\n",
       "      <td>0.0</td>\n",
       "      <td>1.0</td>\n",
       "      <td>1.0</td>\n",
       "      <td>0.0</td>\n",
       "      <td>0.0</td>\n",
       "      <td>9930.045898</td>\n",
       "    </tr>\n",
       "    <tr>\n",
       "      <th>1</th>\n",
       "      <td>Dehejia-Wahba Sample</td>\n",
       "      <td>1.0</td>\n",
       "      <td>22.0</td>\n",
       "      <td>9.0</td>\n",
       "      <td>0.0</td>\n",
       "      <td>1.0</td>\n",
       "      <td>0.0</td>\n",
       "      <td>1.0</td>\n",
       "      <td>0.0</td>\n",
       "      <td>0.0</td>\n",
       "      <td>3595.894043</td>\n",
       "    </tr>\n",
       "    <tr>\n",
       "      <th>2</th>\n",
       "      <td>Dehejia-Wahba Sample</td>\n",
       "      <td>1.0</td>\n",
       "      <td>30.0</td>\n",
       "      <td>12.0</td>\n",
       "      <td>1.0</td>\n",
       "      <td>0.0</td>\n",
       "      <td>0.0</td>\n",
       "      <td>0.0</td>\n",
       "      <td>0.0</td>\n",
       "      <td>0.0</td>\n",
       "      <td>24909.449219</td>\n",
       "    </tr>\n",
       "    <tr>\n",
       "      <th>3</th>\n",
       "      <td>Dehejia-Wahba Sample</td>\n",
       "      <td>1.0</td>\n",
       "      <td>27.0</td>\n",
       "      <td>11.0</td>\n",
       "      <td>1.0</td>\n",
       "      <td>0.0</td>\n",
       "      <td>0.0</td>\n",
       "      <td>1.0</td>\n",
       "      <td>0.0</td>\n",
       "      <td>0.0</td>\n",
       "      <td>7506.145996</td>\n",
       "    </tr>\n",
       "    <tr>\n",
       "      <th>4</th>\n",
       "      <td>Dehejia-Wahba Sample</td>\n",
       "      <td>1.0</td>\n",
       "      <td>33.0</td>\n",
       "      <td>8.0</td>\n",
       "      <td>1.0</td>\n",
       "      <td>0.0</td>\n",
       "      <td>0.0</td>\n",
       "      <td>1.0</td>\n",
       "      <td>0.0</td>\n",
       "      <td>0.0</td>\n",
       "      <td>289.789886</td>\n",
       "    </tr>\n",
       "  </tbody>\n",
       "</table>\n",
       "</div>"
      ],
      "text/plain": [
       "                data_id  treat   age  education  black  hispanic  married  \\\n",
       "0  Dehejia-Wahba Sample    1.0  37.0       11.0    1.0       0.0      1.0   \n",
       "1  Dehejia-Wahba Sample    1.0  22.0        9.0    0.0       1.0      0.0   \n",
       "2  Dehejia-Wahba Sample    1.0  30.0       12.0    1.0       0.0      0.0   \n",
       "3  Dehejia-Wahba Sample    1.0  27.0       11.0    1.0       0.0      0.0   \n",
       "4  Dehejia-Wahba Sample    1.0  33.0        8.0    1.0       0.0      0.0   \n",
       "\n",
       "   nodegree  re74  re75          re78  \n",
       "0       1.0   0.0   0.0   9930.045898  \n",
       "1       1.0   0.0   0.0   3595.894043  \n",
       "2       0.0   0.0   0.0  24909.449219  \n",
       "3       1.0   0.0   0.0   7506.145996  \n",
       "4       1.0   0.0   0.0    289.789886  "
      ]
     },
     "execution_count": 8,
     "metadata": {},
     "output_type": "execute_result"
    }
   ],
   "source": [
    "nswdw_data.head()"
   ]
  },
  {
   "cell_type": "markdown",
   "metadata": {},
   "source": [
    "### (3) データセットの準備\n",
    "\n",
    "- nsdw_data: 特定の条件を満たす人々からランダムに職業訓練による介入を行なったデータ\n",
    "- cps1_nsw_data: nswの介入群と他の調査(CPS)におけるデータを混ぜたもの\n",
    "- cps3_nsw_data: nswの介入群とCPSから条件を満たすものに絞ったデータを混ぜたもの"
   ]
  },
  {
   "cell_type": "code",
   "execution_count": 9,
   "metadata": {},
   "outputs": [
    {
     "data": {
      "text/plain": [
       "0.4157303273677826"
      ]
     },
     "execution_count": 9,
     "metadata": {},
     "output_type": "execute_result"
    }
   ],
   "source": [
    "nswdw_data.treat.mean()"
   ]
  },
  {
   "cell_type": "code",
   "execution_count": 10,
   "metadata": {},
   "outputs": [
    {
     "data": {
      "text/plain": [
       "0.011435989290475845"
      ]
     },
     "execution_count": 10,
     "metadata": {},
     "output_type": "execute_result"
    }
   ],
   "source": [
    "cps1_nsw_data = pd.concat([cps1_data, nswdw_data.query('treat == 1.0')])\n",
    "cps1_nsw_data.treat.mean()"
   ]
  },
  {
   "cell_type": "code",
   "execution_count": 11,
   "metadata": {},
   "outputs": [
    {
     "data": {
      "text/plain": [
       "0.3013029396533966"
      ]
     },
     "execution_count": 11,
     "metadata": {},
     "output_type": "execute_result"
    }
   ],
   "source": [
    "cps3_nsw_data = pd.concat([cps3_data, nswdw_data.query('treat == 1.0')])\n",
    "cps3_nsw_data.treat.mean()"
   ]
  },
  {
   "cell_type": "markdown",
   "metadata": {},
   "source": [
    "### (4) RCTによる結果の確認"
   ]
  },
  {
   "cell_type": "code",
   "execution_count": 12,
   "metadata": {},
   "outputs": [],
   "source": [
    "import statsmodels.api as sm\n",
    "\n",
    "result = sm.OLS(\n",
    "    exog=nswdw_data.drop(columns=['data_id', 're78']).assign(intercept=1),\n",
    "    endog=nswdw_data['re78']\n",
    ").fit()"
   ]
  },
  {
   "cell_type": "code",
   "execution_count": 13,
   "metadata": {},
   "outputs": [
    {
     "data": {
      "text/html": [
       "<table class=\"simpletable\">\n",
       "<caption>OLS Regression Results</caption>\n",
       "<tr>\n",
       "  <th>Dep. Variable:</th>          <td>re78</td>       <th>  R-squared:         </th> <td>   0.055</td>\n",
       "</tr>\n",
       "<tr>\n",
       "  <th>Model:</th>                   <td>OLS</td>       <th>  Adj. R-squared:    </th> <td>   0.035</td>\n",
       "</tr>\n",
       "<tr>\n",
       "  <th>Method:</th>             <td>Least Squares</td>  <th>  F-statistic:       </th> <td>   2.804</td>\n",
       "</tr>\n",
       "<tr>\n",
       "  <th>Date:</th>             <td>Sun, 19 Apr 2020</td> <th>  Prob (F-statistic):</th>  <td>0.00329</td>\n",
       "</tr>\n",
       "<tr>\n",
       "  <th>Time:</th>                 <td>22:03:02</td>     <th>  Log-Likelihood:    </th> <td> -4534.2</td>\n",
       "</tr>\n",
       "<tr>\n",
       "  <th>No. Observations:</th>      <td>   445</td>      <th>  AIC:               </th> <td>   9088.</td>\n",
       "</tr>\n",
       "<tr>\n",
       "  <th>Df Residuals:</th>          <td>   435</td>      <th>  BIC:               </th> <td>   9129.</td>\n",
       "</tr>\n",
       "<tr>\n",
       "  <th>Df Model:</th>              <td>     9</td>      <th>                     </th>     <td> </td>   \n",
       "</tr>\n",
       "<tr>\n",
       "  <th>Covariance Type:</th>      <td>nonrobust</td>    <th>                     </th>     <td> </td>   \n",
       "</tr>\n",
       "</table>\n",
       "<table class=\"simpletable\">\n",
       "<tr>\n",
       "      <td></td>         <th>coef</th>     <th>std err</th>      <th>t</th>      <th>P>|t|</th>  <th>[0.025</th>    <th>0.975]</th>  \n",
       "</tr>\n",
       "<tr>\n",
       "  <th>treat</th>     <td> 1676.3426</td> <td>  638.682</td> <td>    2.625</td> <td> 0.009</td> <td>  421.056</td> <td> 2931.629</td>\n",
       "</tr>\n",
       "<tr>\n",
       "  <th>age</th>       <td>   55.3167</td> <td>   45.284</td> <td>    1.222</td> <td> 0.223</td> <td>  -33.686</td> <td>  144.319</td>\n",
       "</tr>\n",
       "<tr>\n",
       "  <th>education</th> <td>  395.7343</td> <td>  227.415</td> <td>    1.740</td> <td> 0.083</td> <td>  -51.234</td> <td>  842.703</td>\n",
       "</tr>\n",
       "<tr>\n",
       "  <th>black</th>     <td>-2159.5222</td> <td> 1169.036</td> <td>   -1.847</td> <td> 0.065</td> <td>-4457.183</td> <td>  138.139</td>\n",
       "</tr>\n",
       "<tr>\n",
       "  <th>hispanic</th>  <td>  164.0327</td> <td> 1549.457</td> <td>    0.106</td> <td> 0.916</td> <td>-2881.320</td> <td> 3209.386</td>\n",
       "</tr>\n",
       "<tr>\n",
       "  <th>married</th>   <td> -138.7253</td> <td>  879.728</td> <td>   -0.158</td> <td> 0.875</td> <td>-1867.771</td> <td> 1590.321</td>\n",
       "</tr>\n",
       "<tr>\n",
       "  <th>nodegree</th>  <td>  -70.6806</td> <td> 1004.387</td> <td>   -0.070</td> <td> 0.944</td> <td>-2044.736</td> <td> 1903.374</td>\n",
       "</tr>\n",
       "<tr>\n",
       "  <th>re74</th>      <td>    0.0821</td> <td>    0.077</td> <td>    1.061</td> <td> 0.289</td> <td>   -0.070</td> <td>    0.234</td>\n",
       "</tr>\n",
       "<tr>\n",
       "  <th>re75</th>      <td>    0.0528</td> <td>    0.135</td> <td>    0.389</td> <td> 0.697</td> <td>   -0.214</td> <td>    0.319</td>\n",
       "</tr>\n",
       "<tr>\n",
       "  <th>intercept</th> <td>  785.0614</td> <td> 3374.969</td> <td>    0.233</td> <td> 0.816</td> <td>-5848.211</td> <td> 7418.334</td>\n",
       "</tr>\n",
       "</table>\n",
       "<table class=\"simpletable\">\n",
       "<tr>\n",
       "  <th>Omnibus:</th>       <td>284.809</td> <th>  Durbin-Watson:     </th> <td>   2.059</td>\n",
       "</tr>\n",
       "<tr>\n",
       "  <th>Prob(Omnibus):</th> <td> 0.000</td>  <th>  Jarque-Bera (JB):  </th> <td>3770.859</td>\n",
       "</tr>\n",
       "<tr>\n",
       "  <th>Skew:</th>          <td> 2.545</td>  <th>  Prob(JB):          </th> <td>    0.00</td>\n",
       "</tr>\n",
       "<tr>\n",
       "  <th>Kurtosis:</th>      <td>16.321</td>  <th>  Cond. No.          </th> <td>7.19e+04</td>\n",
       "</tr>\n",
       "</table><br/><br/>Warnings:<br/>[1] Standard Errors assume that the covariance matrix of the errors is correctly specified.<br/>[2] The condition number is large, 7.19e+04. This might indicate that there are<br/>strong multicollinearity or other numerical problems."
      ],
      "text/plain": [
       "<class 'statsmodels.iolib.summary.Summary'>\n",
       "\"\"\"\n",
       "                            OLS Regression Results                            \n",
       "==============================================================================\n",
       "Dep. Variable:                   re78   R-squared:                       0.055\n",
       "Model:                            OLS   Adj. R-squared:                  0.035\n",
       "Method:                 Least Squares   F-statistic:                     2.804\n",
       "Date:                Sun, 19 Apr 2020   Prob (F-statistic):            0.00329\n",
       "Time:                        22:03:02   Log-Likelihood:                -4534.2\n",
       "No. Observations:                 445   AIC:                             9088.\n",
       "Df Residuals:                     435   BIC:                             9129.\n",
       "Df Model:                           9                                         \n",
       "Covariance Type:            nonrobust                                         \n",
       "==============================================================================\n",
       "                 coef    std err          t      P>|t|      [0.025      0.975]\n",
       "------------------------------------------------------------------------------\n",
       "treat       1676.3426    638.682      2.625      0.009     421.056    2931.629\n",
       "age           55.3167     45.284      1.222      0.223     -33.686     144.319\n",
       "education    395.7343    227.415      1.740      0.083     -51.234     842.703\n",
       "black      -2159.5222   1169.036     -1.847      0.065   -4457.183     138.139\n",
       "hispanic     164.0327   1549.457      0.106      0.916   -2881.320    3209.386\n",
       "married     -138.7253    879.728     -0.158      0.875   -1867.771    1590.321\n",
       "nodegree     -70.6806   1004.387     -0.070      0.944   -2044.736    1903.374\n",
       "re74           0.0821      0.077      1.061      0.289      -0.070       0.234\n",
       "re75           0.0528      0.135      0.389      0.697      -0.214       0.319\n",
       "intercept    785.0614   3374.969      0.233      0.816   -5848.211    7418.334\n",
       "==============================================================================\n",
       "Omnibus:                      284.809   Durbin-Watson:                   2.059\n",
       "Prob(Omnibus):                  0.000   Jarque-Bera (JB):             3770.859\n",
       "Skew:                           2.545   Prob(JB):                         0.00\n",
       "Kurtosis:                      16.321   Cond. No.                     7.19e+04\n",
       "==============================================================================\n",
       "\n",
       "Warnings:\n",
       "[1] Standard Errors assume that the covariance matrix of the errors is correctly specified.\n",
       "[2] The condition number is large, 7.19e+04. This might indicate that there are\n",
       "strong multicollinearity or other numerical problems.\n",
       "\"\"\""
      ]
     },
     "execution_count": 13,
     "metadata": {},
     "output_type": "execute_result"
    }
   ],
   "source": [
    "result.summary()"
   ]
  },
  {
   "cell_type": "markdown",
   "metadata": {},
   "source": [
    "### 3.4.3 回帰分析による効果の推定"
   ]
  },
  {
   "cell_type": "code",
   "execution_count": 14,
   "metadata": {},
   "outputs": [
    {
     "data": {
      "text/html": [
       "<table class=\"simpletable\">\n",
       "<tr>\n",
       "        <td>Model:</td>               <td>OLS</td>         <td>Adj. R-squared:</td>      <td>0.476</td>   \n",
       "</tr>\n",
       "<tr>\n",
       "  <td>Dependent Variable:</td>       <td>re78</td>              <td>AIC:</td>         <td>332387.0699</td>\n",
       "</tr>\n",
       "<tr>\n",
       "         <td>Date:</td>        <td>2020-04-19 22:03</td>        <td>BIC:</td>         <td>332463.9833</td>\n",
       "</tr>\n",
       "<tr>\n",
       "   <td>No. Observations:</td>        <td>16177</td>        <td>Log-Likelihood:</td>   <td>-1.6618e+05</td>\n",
       "</tr>\n",
       "<tr>\n",
       "       <td>Df Model:</td>              <td>9</td>           <td>F-statistic:</td>        <td>1631.</td>   \n",
       "</tr>\n",
       "<tr>\n",
       "     <td>Df Residuals:</td>          <td>16167</td>      <td>Prob (F-statistic):</td>    <td>0.00</td>    \n",
       "</tr>\n",
       "<tr>\n",
       "      <td>R-squared:</td>            <td>0.476</td>            <td>Scale:</td>        <td>4.9052e+07</td> \n",
       "</tr>\n",
       "</table>\n",
       "<table class=\"simpletable\">\n",
       "<tr>\n",
       "      <td></td>        <th>Coef.</th>   <th>Std.Err.</th>     <th>t</th>     <th>P>|t|</th>   <th>[0.025</th>    <th>0.975]</th>  \n",
       "</tr>\n",
       "<tr>\n",
       "  <th>treat</th>     <td>699.1317</td>  <td>547.6361</td>  <td>1.2766</td>  <td>0.2017</td>  <td>-374.2956</td> <td>1772.5590</td>\n",
       "</tr>\n",
       "<tr>\n",
       "  <th>age</th>       <td>-101.8551</td>  <td>5.8808</td>  <td>-17.3200</td> <td>0.0000</td>  <td>-113.3820</td> <td>-90.3281</td> \n",
       "</tr>\n",
       "<tr>\n",
       "  <th>education</th> <td>160.1864</td>   <td>28.5941</td>  <td>5.6021</td>  <td>0.0000</td>  <td>104.1388</td>  <td>216.2339</td> \n",
       "</tr>\n",
       "<tr>\n",
       "  <th>black</th>     <td>-836.9473</td> <td>212.8256</td>  <td>-3.9326</td> <td>0.0001</td> <td>-1254.1090</td> <td>-419.7856</td>\n",
       "</tr>\n",
       "<tr>\n",
       "  <th>hispanic</th>  <td>-218.3184</td> <td>218.6635</td>  <td>-0.9984</td> <td>0.3181</td>  <td>-646.9231</td> <td>210.2863</td> \n",
       "</tr>\n",
       "<tr>\n",
       "  <th>married</th>    <td>73.0758</td>  <td>142.4086</td>  <td>0.5131</td>  <td>0.6079</td>  <td>-206.0608</td> <td>352.2123</td> \n",
       "</tr>\n",
       "<tr>\n",
       "  <th>nodegree</th>  <td>372.2376</td>  <td>177.5901</td>  <td>2.0960</td>  <td>0.0361</td>   <td>24.1414</td>  <td>720.3338</td> \n",
       "</tr>\n",
       "<tr>\n",
       "  <th>re74</th>       <td>0.2895</td>    <td>0.0121</td>   <td>23.9533</td> <td>0.0000</td>   <td>0.2658</td>    <td>0.3132</td>  \n",
       "</tr>\n",
       "<tr>\n",
       "  <th>re75</th>       <td>0.4707</td>    <td>0.0122</td>   <td>38.6968</td> <td>0.0000</td>   <td>0.4469</td>    <td>0.4946</td>  \n",
       "</tr>\n",
       "<tr>\n",
       "  <th>intercept</th> <td>5735.7312</td> <td>445.1756</td>  <td>12.8842</td> <td>0.0000</td>  <td>4863.1377</td> <td>6608.3248</td>\n",
       "</tr>\n",
       "</table>\n",
       "<table class=\"simpletable\">\n",
       "<tr>\n",
       "     <td>Omnibus:</td>    <td>1536.524</td>  <td>Durbin-Watson:</td>     <td>1.965</td> \n",
       "</tr>\n",
       "<tr>\n",
       "  <td>Prob(Omnibus):</td>   <td>0.000</td>  <td>Jarque-Bera (JB):</td> <td>3028.407</td>\n",
       "</tr>\n",
       "<tr>\n",
       "       <td>Skew:</td>      <td>-0.632</td>      <td>Prob(JB):</td>       <td>0.000</td> \n",
       "</tr>\n",
       "<tr>\n",
       "     <td>Kurtosis:</td>     <td>4.701</td>   <td>Condition No.:</td>    <td>233367</td> \n",
       "</tr>\n",
       "</table>"
      ],
      "text/plain": [
       "<class 'statsmodels.iolib.summary2.Summary'>\n",
       "\"\"\"\n",
       "                  Results: Ordinary least squares\n",
       "====================================================================\n",
       "Model:              OLS              Adj. R-squared:     0.476      \n",
       "Dependent Variable: re78             AIC:                332387.0699\n",
       "Date:               2020-04-19 22:03 BIC:                332463.9833\n",
       "No. Observations:   16177            Log-Likelihood:     -1.6618e+05\n",
       "Df Model:           9                F-statistic:        1631.      \n",
       "Df Residuals:       16167            Prob (F-statistic): 0.00       \n",
       "R-squared:          0.476            Scale:              4.9052e+07 \n",
       "--------------------------------------------------------------------\n",
       "               Coef.   Std.Err.    t     P>|t|    [0.025     0.975] \n",
       "--------------------------------------------------------------------\n",
       "treat         699.1317 547.6361   1.2766 0.2017  -374.2956 1772.5590\n",
       "age          -101.8551   5.8808 -17.3200 0.0000  -113.3820  -90.3281\n",
       "education     160.1864  28.5941   5.6021 0.0000   104.1388  216.2339\n",
       "black        -836.9473 212.8256  -3.9326 0.0001 -1254.1090 -419.7856\n",
       "hispanic     -218.3184 218.6635  -0.9984 0.3181  -646.9231  210.2863\n",
       "married        73.0758 142.4086   0.5131 0.6079  -206.0608  352.2123\n",
       "nodegree      372.2376 177.5901   2.0960 0.0361    24.1414  720.3338\n",
       "re74            0.2895   0.0121  23.9533 0.0000     0.2658    0.3132\n",
       "re75            0.4707   0.0122  38.6968 0.0000     0.4469    0.4946\n",
       "intercept    5735.7312 445.1756  12.8842 0.0000  4863.1377 6608.3248\n",
       "--------------------------------------------------------------------\n",
       "Omnibus:             1536.524       Durbin-Watson:          1.965   \n",
       "Prob(Omnibus):       0.000          Jarque-Bera (JB):       3028.407\n",
       "Skew:                -0.632         Prob(JB):               0.000   \n",
       "Kurtosis:            4.701          Condition No.:          233367  \n",
       "====================================================================\n",
       "* The condition number is large (2e+05). This might indicate\n",
       "strong multicollinearity or other numerical problems.\n",
       "\"\"\""
      ]
     },
     "execution_count": 14,
     "metadata": {},
     "output_type": "execute_result"
    }
   ],
   "source": [
    "result = sm.OLS(\n",
    "    exog=cps1_nsw_data.drop(columns=['data_id', 're78']).assign(intercept=1),\n",
    "    endog=cps1_nsw_data['re78']\n",
    ").fit()\n",
    "\n",
    "result.summary2()"
   ]
  },
  {
   "cell_type": "code",
   "execution_count": 15,
   "metadata": {},
   "outputs": [],
   "source": [
    "from sklearn.linear_model import LinearRegression\n",
    "\n",
    "def train(df):\n",
    "    y = df['re78']\n",
    "    X = df.drop(columns=['data_id', 're78'])\n",
    "    X['intercept'] = 1\n",
    "    clf = LinearRegression().fit(X, y)\n",
    "    return clf, X.columns"
   ]
  },
  {
   "cell_type": "code",
   "execution_count": 16,
   "metadata": {},
   "outputs": [
    {
     "data": {
      "text/html": [
       "<div>\n",
       "<style scoped>\n",
       "    .dataframe tbody tr th:only-of-type {\n",
       "        vertical-align: middle;\n",
       "    }\n",
       "\n",
       "    .dataframe tbody tr th {\n",
       "        vertical-align: top;\n",
       "    }\n",
       "\n",
       "    .dataframe thead th {\n",
       "        text-align: right;\n",
       "    }\n",
       "</style>\n",
       "<table border=\"1\" class=\"dataframe\">\n",
       "  <thead>\n",
       "    <tr style=\"text-align: right;\">\n",
       "      <th></th>\n",
       "      <th>0</th>\n",
       "      <th>1</th>\n",
       "      <th>2</th>\n",
       "      <th>3</th>\n",
       "      <th>4</th>\n",
       "      <th>5</th>\n",
       "      <th>6</th>\n",
       "      <th>7</th>\n",
       "      <th>8</th>\n",
       "      <th>9</th>\n",
       "    </tr>\n",
       "  </thead>\n",
       "  <tbody>\n",
       "    <tr>\n",
       "      <th>0</th>\n",
       "      <td>treat</td>\n",
       "      <td>age</td>\n",
       "      <td>education</td>\n",
       "      <td>black</td>\n",
       "      <td>hispanic</td>\n",
       "      <td>married</td>\n",
       "      <td>nodegree</td>\n",
       "      <td>re74</td>\n",
       "      <td>re75</td>\n",
       "      <td>intercept</td>\n",
       "    </tr>\n",
       "    <tr>\n",
       "      <th>1</th>\n",
       "      <td>699.132</td>\n",
       "      <td>-101.855</td>\n",
       "      <td>160.186</td>\n",
       "      <td>-836.947</td>\n",
       "      <td>-218.318</td>\n",
       "      <td>73.0758</td>\n",
       "      <td>372.238</td>\n",
       "      <td>0.289492</td>\n",
       "      <td>0.470729</td>\n",
       "      <td>0</td>\n",
       "    </tr>\n",
       "  </tbody>\n",
       "</table>\n",
       "</div>"
      ],
      "text/plain": [
       "         0        1          2        3         4        5         6  \\\n",
       "0    treat      age  education    black  hispanic  married  nodegree   \n",
       "1  699.132 -101.855    160.186 -836.947  -218.318  73.0758   372.238   \n",
       "\n",
       "          7         8          9  \n",
       "0      re74      re75  intercept  \n",
       "1  0.289492  0.470729          0  "
      ]
     },
     "execution_count": 16,
     "metadata": {},
     "output_type": "execute_result"
    }
   ],
   "source": [
    "cls, columns = train(cps1_nsw_data)\n",
    "pd.DataFrame([columns, cls.coef_])"
   ]
  },
  {
   "cell_type": "code",
   "execution_count": 17,
   "metadata": {},
   "outputs": [
    {
     "data": {
      "text/html": [
       "<table class=\"simpletable\">\n",
       "<tr>\n",
       "        <td>Model:</td>               <td>OLS</td>         <td>Adj. R-squared:</td>      <td>0.135</td>  \n",
       "</tr>\n",
       "<tr>\n",
       "  <td>Dependent Variable:</td>       <td>re78</td>              <td>AIC:</td>         <td>12615.5042</td>\n",
       "</tr>\n",
       "<tr>\n",
       "         <td>Date:</td>        <td>2020-04-19 22:03</td>        <td>BIC:</td>         <td>12659.7042</td>\n",
       "</tr>\n",
       "<tr>\n",
       "   <td>No. Observations:</td>         <td>614</td>         <td>Log-Likelihood:</td>     <td>-6297.8</td> \n",
       "</tr>\n",
       "<tr>\n",
       "       <td>Df Model:</td>              <td>9</td>           <td>F-statistic:</td>        <td>11.64</td>  \n",
       "</tr>\n",
       "<tr>\n",
       "     <td>Df Residuals:</td>           <td>604</td>       <td>Prob (F-statistic):</td>  <td>5.99e-17</td> \n",
       "</tr>\n",
       "<tr>\n",
       "      <td>R-squared:</td>            <td>0.148</td>            <td>Scale:</td>        <td>4.8274e+07</td>\n",
       "</tr>\n",
       "</table>\n",
       "<table class=\"simpletable\">\n",
       "<tr>\n",
       "      <td></td>         <th>Coef.</th>   <th>Std.Err.</th>     <th>t</th>     <th>P>|t|</th>   <th>[0.025</th>    <th>0.975]</th>  \n",
       "</tr>\n",
       "<tr>\n",
       "  <th>treat</th>      <td>1548.2438</td> <td>781.2793</td>  <td>1.9817</td>  <td>0.0480</td>   <td>13.8899</td>  <td>3082.5976</td>\n",
       "</tr>\n",
       "<tr>\n",
       "  <th>age</th>         <td>12.9776</td>   <td>32.4889</td>  <td>0.3994</td>  <td>0.6897</td>  <td>-50.8273</td>   <td>76.7826</td> \n",
       "</tr>\n",
       "<tr>\n",
       "  <th>education</th>  <td>403.9412</td>  <td>158.9062</td>  <td>2.5420</td>  <td>0.0113</td>   <td>91.8654</td>  <td>716.0171</td> \n",
       "</tr>\n",
       "<tr>\n",
       "  <th>black</th>     <td>-1240.6441</td> <td>768.7644</td>  <td>-1.6138</td> <td>0.1071</td> <td>-2750.4200</td> <td>269.1318</td> \n",
       "</tr>\n",
       "<tr>\n",
       "  <th>hispanic</th>   <td>498.8968</td>  <td>941.9425</td>  <td>0.5296</td>  <td>0.5966</td> <td>-1350.9835</td> <td>2348.7772</td>\n",
       "</tr>\n",
       "<tr>\n",
       "  <th>married</th>    <td>406.6208</td>  <td>695.4723</td>  <td>0.5847</td>  <td>0.5590</td>  <td>-959.2168</td> <td>1772.4584</td>\n",
       "</tr>\n",
       "<tr>\n",
       "  <th>nodegree</th>   <td>259.8174</td>  <td>847.4421</td>  <td>0.3066</td>  <td>0.7593</td> <td>-1404.4735</td> <td>1924.1082</td>\n",
       "</tr>\n",
       "<tr>\n",
       "  <th>re74</th>        <td>0.2964</td>    <td>0.0583</td>   <td>5.0860</td>  <td>0.0000</td>   <td>0.1819</td>    <td>0.4108</td>  \n",
       "</tr>\n",
       "<tr>\n",
       "  <th>re75</th>        <td>0.2315</td>    <td>0.1046</td>   <td>2.2130</td>  <td>0.0273</td>   <td>0.0261</td>    <td>0.4370</td>  \n",
       "</tr>\n",
       "<tr>\n",
       "  <th>intercept</th>   <td>66.5145</td>  <td>2436.7458</td> <td>0.0273</td>  <td>0.9782</td> <td>-4719.0089</td> <td>4852.0380</td>\n",
       "</tr>\n",
       "</table>\n",
       "<table class=\"simpletable\">\n",
       "<tr>\n",
       "     <td>Omnibus:</td>    <td>216.123</td>  <td>Durbin-Watson:</td>     <td>1.994</td> \n",
       "</tr>\n",
       "<tr>\n",
       "  <td>Prob(Omnibus):</td>  <td>0.000</td>  <td>Jarque-Bera (JB):</td> <td>1182.664</td>\n",
       "</tr>\n",
       "<tr>\n",
       "       <td>Skew:</td>      <td>1.467</td>      <td>Prob(JB):</td>       <td>0.000</td> \n",
       "</tr>\n",
       "<tr>\n",
       "     <td>Kurtosis:</td>    <td>9.134</td>   <td>Condition No.:</td>     <td>76354</td> \n",
       "</tr>\n",
       "</table>"
      ],
      "text/plain": [
       "<class 'statsmodels.iolib.summary2.Summary'>\n",
       "\"\"\"\n",
       "                  Results: Ordinary least squares\n",
       "===================================================================\n",
       "Model:              OLS              Adj. R-squared:     0.135     \n",
       "Dependent Variable: re78             AIC:                12615.5042\n",
       "Date:               2020-04-19 22:03 BIC:                12659.7042\n",
       "No. Observations:   614              Log-Likelihood:     -6297.8   \n",
       "Df Model:           9                F-statistic:        11.64     \n",
       "Df Residuals:       604              Prob (F-statistic): 5.99e-17  \n",
       "R-squared:          0.148            Scale:              4.8274e+07\n",
       "-------------------------------------------------------------------\n",
       "             Coef.     Std.Err.    t    P>|t|    [0.025     0.975] \n",
       "-------------------------------------------------------------------\n",
       "treat       1548.2438  781.2793  1.9817 0.0480    13.8899 3082.5976\n",
       "age           12.9776   32.4889  0.3994 0.6897   -50.8273   76.7826\n",
       "education    403.9412  158.9062  2.5420 0.0113    91.8654  716.0171\n",
       "black      -1240.6441  768.7644 -1.6138 0.1071 -2750.4200  269.1318\n",
       "hispanic     498.8968  941.9425  0.5296 0.5966 -1350.9835 2348.7772\n",
       "married      406.6208  695.4723  0.5847 0.5590  -959.2168 1772.4584\n",
       "nodegree     259.8174  847.4421  0.3066 0.7593 -1404.4735 1924.1082\n",
       "re74           0.2964    0.0583  5.0860 0.0000     0.1819    0.4108\n",
       "re75           0.2315    0.1046  2.2130 0.0273     0.0261    0.4370\n",
       "intercept     66.5145 2436.7458  0.0273 0.9782 -4719.0089 4852.0380\n",
       "-------------------------------------------------------------------\n",
       "Omnibus:             216.123       Durbin-Watson:          1.994   \n",
       "Prob(Omnibus):       0.000         Jarque-Bera (JB):       1182.664\n",
       "Skew:                1.467         Prob(JB):               0.000   \n",
       "Kurtosis:            9.134         Condition No.:          76354   \n",
       "===================================================================\n",
       "* The condition number is large (8e+04). This might indicate\n",
       "strong multicollinearity or other numerical problems.\n",
       "\"\"\""
      ]
     },
     "execution_count": 17,
     "metadata": {},
     "output_type": "execute_result"
    }
   ],
   "source": [
    "result = sm.OLS(\n",
    "    exog=cps3_nsw_data.drop(columns=['data_id', 're78']).assign(intercept=1),\n",
    "    endog=cps3_nsw_data['re78']\n",
    ").fit()\n",
    "\n",
    "result.summary2()"
   ]
  },
  {
   "cell_type": "code",
   "execution_count": 18,
   "metadata": {},
   "outputs": [
    {
     "data": {
      "text/html": [
       "<div>\n",
       "<style scoped>\n",
       "    .dataframe tbody tr th:only-of-type {\n",
       "        vertical-align: middle;\n",
       "    }\n",
       "\n",
       "    .dataframe tbody tr th {\n",
       "        vertical-align: top;\n",
       "    }\n",
       "\n",
       "    .dataframe thead th {\n",
       "        text-align: right;\n",
       "    }\n",
       "</style>\n",
       "<table border=\"1\" class=\"dataframe\">\n",
       "  <thead>\n",
       "    <tr style=\"text-align: right;\">\n",
       "      <th></th>\n",
       "      <th>0</th>\n",
       "      <th>1</th>\n",
       "      <th>2</th>\n",
       "      <th>3</th>\n",
       "      <th>4</th>\n",
       "      <th>5</th>\n",
       "      <th>6</th>\n",
       "      <th>7</th>\n",
       "      <th>8</th>\n",
       "      <th>9</th>\n",
       "    </tr>\n",
       "  </thead>\n",
       "  <tbody>\n",
       "    <tr>\n",
       "      <th>0</th>\n",
       "      <td>treat</td>\n",
       "      <td>age</td>\n",
       "      <td>education</td>\n",
       "      <td>black</td>\n",
       "      <td>hispanic</td>\n",
       "      <td>married</td>\n",
       "      <td>nodegree</td>\n",
       "      <td>re74</td>\n",
       "      <td>re75</td>\n",
       "      <td>intercept</td>\n",
       "    </tr>\n",
       "    <tr>\n",
       "      <th>1</th>\n",
       "      <td>1548.24</td>\n",
       "      <td>12.9776</td>\n",
       "      <td>403.941</td>\n",
       "      <td>-1240.64</td>\n",
       "      <td>498.897</td>\n",
       "      <td>406.621</td>\n",
       "      <td>259.817</td>\n",
       "      <td>0.296377</td>\n",
       "      <td>0.231526</td>\n",
       "      <td>0</td>\n",
       "    </tr>\n",
       "  </tbody>\n",
       "</table>\n",
       "</div>"
      ],
      "text/plain": [
       "         0        1          2        3         4        5         6  \\\n",
       "0    treat      age  education    black  hispanic  married  nodegree   \n",
       "1  1548.24  12.9776    403.941 -1240.64   498.897  406.621   259.817   \n",
       "\n",
       "          7         8          9  \n",
       "0      re74      re75  intercept  \n",
       "1  0.296377  0.231526          0  "
      ]
     },
     "execution_count": 18,
     "metadata": {},
     "output_type": "execute_result"
    }
   ],
   "source": [
    "cls, columns = train(cps3_nsw_data)\n",
    "pd.DataFrame([columns, cls.coef_])"
   ]
  },
  {
   "cell_type": "markdown",
   "metadata": {},
   "source": [
    "### 3.4.4 傾向スコアによる効果の推定"
   ]
  },
  {
   "cell_type": "code",
   "execution_count": 19,
   "metadata": {},
   "outputs": [],
   "source": [
    "from sklearn.linear_model import LogisticRegression\n",
    "\n",
    "def train_propensity_score(df):\n",
    "    y = df['treat']\n",
    "    X = df.drop(columns=['data_id', 're78', 'treat'])\n",
    "#    X['re74_2'] = X['re74']**2\n",
    "#    X['re75_2'] = X['re75']**2\n",
    "    X['intercept'] = 1\n",
    "    clf = LogisticRegression(fit_intercept=False).fit(X, y)\n",
    "    return clf, X, y"
   ]
  },
  {
   "cell_type": "code",
   "execution_count": 20,
   "metadata": {},
   "outputs": [
    {
     "name": "stderr",
     "output_type": "stream",
     "text": [
      "/Users/takashinishibayashi/dev/ipython-notebook-bootstrap/env/lib/python3.7/site-packages/sklearn/linear_model/logistic.py:433: FutureWarning: Default solver will be changed to 'lbfgs' in 0.22. Specify a solver to silence this warning.\n",
      "  FutureWarning)\n"
     ]
    }
   ],
   "source": [
    "clf, X, y = train_propensity_score(cps1_nsw_data)"
   ]
  },
  {
   "cell_type": "code",
   "execution_count": 21,
   "metadata": {},
   "outputs": [
    {
     "data": {
      "text/html": [
       "<div>\n",
       "<style scoped>\n",
       "    .dataframe tbody tr th:only-of-type {\n",
       "        vertical-align: middle;\n",
       "    }\n",
       "\n",
       "    .dataframe tbody tr th {\n",
       "        vertical-align: top;\n",
       "    }\n",
       "\n",
       "    .dataframe thead th {\n",
       "        text-align: right;\n",
       "    }\n",
       "</style>\n",
       "<table border=\"1\" class=\"dataframe\">\n",
       "  <thead>\n",
       "    <tr style=\"text-align: right;\">\n",
       "      <th></th>\n",
       "      <th>0</th>\n",
       "      <th>1</th>\n",
       "      <th>2</th>\n",
       "      <th>3</th>\n",
       "      <th>4</th>\n",
       "      <th>5</th>\n",
       "      <th>6</th>\n",
       "      <th>7</th>\n",
       "      <th>8</th>\n",
       "    </tr>\n",
       "  </thead>\n",
       "  <tbody>\n",
       "    <tr>\n",
       "      <th>0</th>\n",
       "      <td>age</td>\n",
       "      <td>education</td>\n",
       "      <td>black</td>\n",
       "      <td>hispanic</td>\n",
       "      <td>married</td>\n",
       "      <td>nodegree</td>\n",
       "      <td>re74</td>\n",
       "      <td>re75</td>\n",
       "      <td>intercept</td>\n",
       "    </tr>\n",
       "    <tr>\n",
       "      <th>1</th>\n",
       "      <td>-0.0260253</td>\n",
       "      <td>-0.197035</td>\n",
       "      <td>0.200522</td>\n",
       "      <td>-0.0112948</td>\n",
       "      <td>-0.0438883</td>\n",
       "      <td>0.0163002</td>\n",
       "      <td>-4.59409e-05</td>\n",
       "      <td>-0.000241936</td>\n",
       "      <td>-0.0173187</td>\n",
       "    </tr>\n",
       "  </tbody>\n",
       "</table>\n",
       "</div>"
      ],
      "text/plain": [
       "           0          1         2          3          4          5  \\\n",
       "0        age  education     black   hispanic    married   nodegree   \n",
       "1 -0.0260253  -0.197035  0.200522 -0.0112948 -0.0438883  0.0163002   \n",
       "\n",
       "             6            7          8  \n",
       "0         re74         re75  intercept  \n",
       "1 -4.59409e-05 -0.000241936 -0.0173187  "
      ]
     },
     "execution_count": 21,
     "metadata": {},
     "output_type": "execute_result"
    }
   ],
   "source": [
    "pd.DataFrame([X.columns, clf.coef_[0]])"
   ]
  },
  {
   "cell_type": "code",
   "execution_count": 22,
   "metadata": {},
   "outputs": [
    {
     "data": {
      "text/plain": [
       "0.9132573043278396"
      ]
     },
     "execution_count": 22,
     "metadata": {},
     "output_type": "execute_result"
    }
   ],
   "source": [
    "# 傾向スコアの確認\n",
    "from sklearn.metrics import roc_auc_score\n",
    "\n",
    "roc_auc_score(y, clf.predict_proba(X)[:, 1])"
   ]
  },
  {
   "cell_type": "markdown",
   "metadata": {},
   "source": [
    "### 傾向スコアマッチング"
   ]
  },
  {
   "cell_type": "code",
   "execution_count": 23,
   "metadata": {},
   "outputs": [],
   "source": [
    "cps1_with_ps = cps1_nsw_data.copy()\n",
    "cps1_with_ps['re74_2'] = cps1_with_ps['re74']**2\n",
    "cps1_with_ps['re75_2'] = cps1_with_ps['re75']**2\n",
    "cps1_with_ps['ps'] = clf.predict_proba(X)[:, 1]"
   ]
  },
  {
   "cell_type": "code",
   "execution_count": 28,
   "metadata": {},
   "outputs": [
    {
     "data": {
      "text/plain": [
       "array([[0.],\n",
       "       [0.],\n",
       "       [0.],\n",
       "       ...,\n",
       "       [1.],\n",
       "       [1.],\n",
       "       [1.]], dtype=float32)"
      ]
     },
     "execution_count": 28,
     "metadata": {},
     "output_type": "execute_result"
    }
   ],
   "source": [
    "y.values.reshape([-1, 1])"
   ]
  },
  {
   "cell_type": "code",
   "execution_count": 29,
   "metadata": {},
   "outputs": [],
   "source": [
    "from sklearn.neighbors import NearestNeighbors\n",
    "\n",
    "def matching(X, y, ps_score, random_state=0):\n",
    "    df_all = pd.DataFrame({'treatment': y, 'ps_score': ps_score})\n",
    "\n",
    "    group1_df = df_all[df_all.treatment==1].copy()\n",
    "    group1_indices = group1_df.index\n",
    "    group1_df = group1_df.reset_index(drop=True)\n",
    "    group2_df = df_all[df_all.treatment==0].copy()\n",
    "    group2_indices = group2_df.index\n",
    "    group2_df = group2_df.reset_index(drop=True)\n",
    "\n",
    "    # 全体の傾向スコアの標準偏差 * 0.2をしきい値とする\n",
    "    threshold = df_all.ps_score.std() * 0.2\n",
    "\n",
    "    matched_group1_dfs = []\n",
    "    matched_group2_dfs = []\n",
    "    _group1_df = group1_df.copy()\n",
    "    _group2_df = group2_df.copy()\n",
    "\n",
    "    while True:\n",
    "        # NearestNeighborsで最近傍点1点を見つけ、マッチングする\n",
    "        neigh = NearestNeighbors(n_neighbors=1)\n",
    "        neigh.fit(_group1_df.ps_score.values.reshape(-1, 1))\n",
    "        distances, indices = neigh.kneighbors(_group2_df.ps_score.values.reshape(-1, 1))\n",
    "        # 重複点を削除する\n",
    "        distance_df = pd.DataFrame({'distance': distances.reshape(-1), 'indices': indices.reshape(-1)})\n",
    "        distance_df.index = _group2_df.index\n",
    "        distance_df = distance_df.drop_duplicates(subset='indices')\n",
    "        # しきい値を超えたレコードを削除する\n",
    "        distance_df = distance_df[distance_df.distance < threshold]\n",
    "        if len(distance_df) == 0:\n",
    "            break\n",
    "        # マッチングしたレコードを抽出、削除する\n",
    "        group1_matched_indices = _group1_df.iloc[distance_df['indices']].index.tolist()\n",
    "        group2_matched_indices = distance_df.index\n",
    "        matched_group1_dfs.append(_group1_df.loc[group1_matched_indices])\n",
    "        matched_group2_dfs.append(_group2_df.loc[group2_matched_indices])\n",
    "        _group1_df = _group1_df.drop(group1_matched_indices)\n",
    "        _group2_df = _group2_df.drop(group2_matched_indices)\n",
    "\n",
    "    # マッチしたレコードを返す\n",
    "    group1_df.index = group1_indices\n",
    "    group2_df.index = group2_indices\n",
    "    matched_df = pd.concat([\n",
    "        group1_df.iloc[pd.concat(matched_group1_dfs).index],\n",
    "        group2_df.iloc[pd.concat(matched_group2_dfs).index]\n",
    "    ]).sort_index()\n",
    "    matched_indices = matched_df.index\n",
    "\n",
    "    return X.loc[matched_indices], y.loc[matched_indices]"
   ]
  },
  {
   "cell_type": "code",
   "execution_count": 37,
   "metadata": {},
   "outputs": [],
   "source": [
    "X_matched, y_matched = matching(cps1_nsw_data, y, clf.predict_proba(X)[:, 1])"
   ]
  },
  {
   "cell_type": "code",
   "execution_count": 40,
   "metadata": {},
   "outputs": [
    {
     "data": {
      "text/html": [
       "<table class=\"simpletable\">\n",
       "<tr>\n",
       "        <td>Model:</td>               <td>OLS</td>         <td>Adj. R-squared:</td>      <td>0.390</td>  \n",
       "</tr>\n",
       "<tr>\n",
       "  <td>Dependent Variable:</td>       <td>re78</td>              <td>AIC:</td>         <td>11397.6612</td>\n",
       "</tr>\n",
       "<tr>\n",
       "         <td>Date:</td>        <td>2020-04-19 22:28</td>        <td>BIC:</td>         <td>11440.8509</td>\n",
       "</tr>\n",
       "<tr>\n",
       "   <td>No. Observations:</td>         <td>555</td>         <td>Log-Likelihood:</td>     <td>-5688.8</td> \n",
       "</tr>\n",
       "<tr>\n",
       "       <td>Df Model:</td>              <td>9</td>           <td>F-statistic:</td>        <td>40.41</td>  \n",
       "</tr>\n",
       "<tr>\n",
       "     <td>Df Residuals:</td>           <td>545</td>       <td>Prob (F-statistic):</td>  <td>3.85e-55</td> \n",
       "</tr>\n",
       "<tr>\n",
       "      <td>R-squared:</td>            <td>0.400</td>            <td>Scale:</td>        <td>4.7707e+07</td>\n",
       "</tr>\n",
       "</table>\n",
       "<table class=\"simpletable\">\n",
       "<tr>\n",
       "      <td></td>         <th>Coef.</th>   <th>Std.Err.</th>     <th>t</th>     <th>P>|t|</th>   <th>[0.025</th>    <th>0.975]</th>  \n",
       "</tr>\n",
       "<tr>\n",
       "  <th>treat</th>      <td>688.8896</td>  <td>967.9873</td>  <td>0.7117</td>  <td>0.4770</td> <td>-1212.5533</td> <td>2590.3326</td>\n",
       "</tr>\n",
       "<tr>\n",
       "  <th>age</th>        <td>-87.5451</td>   <td>32.2204</td>  <td>-2.7171</td> <td>0.0068</td>  <td>-150.8364</td> <td>-24.2537</td> \n",
       "</tr>\n",
       "<tr>\n",
       "  <th>education</th>  <td>491.2342</td>  <td>157.4290</td>  <td>3.1204</td>  <td>0.0019</td>  <td>181.9923</td>  <td>800.4761</td> \n",
       "</tr>\n",
       "<tr>\n",
       "  <th>black</th>     <td>-2115.8485</td> <td>993.3330</td>  <td>-2.1300</td> <td>0.0336</td> <td>-4067.0786</td> <td>-164.6183</td>\n",
       "</tr>\n",
       "<tr>\n",
       "  <th>hispanic</th>   <td>290.7673</td>  <td>1314.9278</td> <td>0.2211</td>  <td>0.8251</td> <td>-2292.1800</td> <td>2873.7147</td>\n",
       "</tr>\n",
       "<tr>\n",
       "  <th>married</th>    <td>715.9720</td>  <td>753.9165</td>  <td>0.9497</td>  <td>0.3427</td>  <td>-764.9660</td> <td>2196.9101</td>\n",
       "</tr>\n",
       "<tr>\n",
       "  <th>nodegree</th>   <td>1122.2178</td> <td>884.6767</td>  <td>1.2685</td>  <td>0.2052</td>  <td>-615.5759</td> <td>2860.0115</td>\n",
       "</tr>\n",
       "<tr>\n",
       "  <th>re74</th>        <td>0.1731</td>    <td>0.0698</td>   <td>2.4783</td>  <td>0.0135</td>   <td>0.0359</td>    <td>0.3102</td>  \n",
       "</tr>\n",
       "<tr>\n",
       "  <th>re75</th>        <td>0.4590</td>    <td>0.0728</td>   <td>6.3030</td>  <td>0.0000</td>   <td>0.3159</td>    <td>0.6020</td>  \n",
       "</tr>\n",
       "<tr>\n",
       "  <th>intercept</th>  <td>2437.0429</td> <td>2433.6769</td> <td>1.0014</td>  <td>0.3171</td> <td>-2343.4926</td> <td>7217.5784</td>\n",
       "</tr>\n",
       "</table>\n",
       "<table class=\"simpletable\">\n",
       "<tr>\n",
       "     <td>Omnibus:</td>    <td>176.308</td>  <td>Durbin-Watson:</td>     <td>2.140</td> \n",
       "</tr>\n",
       "<tr>\n",
       "  <td>Prob(Omnibus):</td>  <td>0.000</td>  <td>Jarque-Bera (JB):</td> <td>1387.818</td>\n",
       "</tr>\n",
       "<tr>\n",
       "       <td>Skew:</td>      <td>1.169</td>      <td>Prob(JB):</td>       <td>0.000</td> \n",
       "</tr>\n",
       "<tr>\n",
       "     <td>Kurtosis:</td>   <td>10.386</td>   <td>Condition No.:</td>    <td>124132</td> \n",
       "</tr>\n",
       "</table>"
      ],
      "text/plain": [
       "<class 'statsmodels.iolib.summary2.Summary'>\n",
       "\"\"\"\n",
       "                  Results: Ordinary least squares\n",
       "===================================================================\n",
       "Model:              OLS              Adj. R-squared:     0.390     \n",
       "Dependent Variable: re78             AIC:                11397.6612\n",
       "Date:               2020-04-19 22:28 BIC:                11440.8509\n",
       "No. Observations:   555              Log-Likelihood:     -5688.8   \n",
       "Df Model:           9                F-statistic:        40.41     \n",
       "Df Residuals:       545              Prob (F-statistic): 3.85e-55  \n",
       "R-squared:          0.400            Scale:              4.7707e+07\n",
       "-------------------------------------------------------------------\n",
       "             Coef.     Std.Err.    t    P>|t|    [0.025     0.975] \n",
       "-------------------------------------------------------------------\n",
       "treat        688.8896  967.9873  0.7117 0.4770 -1212.5533 2590.3326\n",
       "age          -87.5451   32.2204 -2.7171 0.0068  -150.8364  -24.2537\n",
       "education    491.2342  157.4290  3.1204 0.0019   181.9923  800.4761\n",
       "black      -2115.8485  993.3330 -2.1300 0.0336 -4067.0786 -164.6183\n",
       "hispanic     290.7673 1314.9278  0.2211 0.8251 -2292.1800 2873.7147\n",
       "married      715.9720  753.9165  0.9497 0.3427  -764.9660 2196.9101\n",
       "nodegree    1122.2178  884.6767  1.2685 0.2052  -615.5759 2860.0115\n",
       "re74           0.1731    0.0698  2.4783 0.0135     0.0359    0.3102\n",
       "re75           0.4590    0.0728  6.3030 0.0000     0.3159    0.6020\n",
       "intercept   2437.0429 2433.6769  1.0014 0.3171 -2343.4926 7217.5784\n",
       "-------------------------------------------------------------------\n",
       "Omnibus:             176.308       Durbin-Watson:          2.140   \n",
       "Prob(Omnibus):       0.000         Jarque-Bera (JB):       1387.818\n",
       "Skew:                1.169         Prob(JB):               0.000   \n",
       "Kurtosis:            10.386        Condition No.:          124132  \n",
       "===================================================================\n",
       "* The condition number is large (1e+05). This might indicate\n",
       "strong multicollinearity or other numerical problems.\n",
       "\"\"\""
      ]
     },
     "execution_count": 40,
     "metadata": {},
     "output_type": "execute_result"
    }
   ],
   "source": [
    "result = sm.OLS(\n",
    "    exog=X_matched.drop(columns=['data_id', 're78']).assign(intercept=1),\n",
    "    endog=_df['re78']\n",
    ").fit()\n",
    "\n",
    "result.summary2()"
   ]
  },
  {
   "cell_type": "code",
   "execution_count": 172,
   "metadata": {},
   "outputs": [
    {
     "data": {
      "text/plain": [
       "age          1.014290e+01\n",
       "education    2.779034e+00\n",
       "black        5.006690e-01\n",
       "hispanic     2.854034e-01\n",
       "married      4.488074e-01\n",
       "nodegree     4.588778e-01\n",
       "re74         4.205620e+03\n",
       "re75         3.006300e+03\n",
       "re74_2       9.053803e+07\n",
       "re75_2       4.809074e+07\n",
       "dtype: float32"
      ]
     },
     "execution_count": 172,
     "metadata": {},
     "output_type": "execute_result"
    }
   ],
   "source": [
    "covariate_std = matching.drop(columns=['treat', 'ps', 're78']).std()\n",
    "covariate_std"
   ]
  },
  {
   "cell_type": "code",
   "execution_count": 180,
   "metadata": {},
   "outputs": [
    {
     "data": {
      "text/html": [
       "<div>\n",
       "<style scoped>\n",
       "    .dataframe tbody tr th:only-of-type {\n",
       "        vertical-align: middle;\n",
       "    }\n",
       "\n",
       "    .dataframe tbody tr th {\n",
       "        vertical-align: top;\n",
       "    }\n",
       "\n",
       "    .dataframe thead th {\n",
       "        text-align: right;\n",
       "    }\n",
       "</style>\n",
       "<table border=\"1\" class=\"dataframe\">\n",
       "  <thead>\n",
       "    <tr style=\"text-align: right;\">\n",
       "      <th>treat</th>\n",
       "      <th>0.0</th>\n",
       "      <th>1.0</th>\n",
       "    </tr>\n",
       "  </thead>\n",
       "  <tbody>\n",
       "    <tr>\n",
       "      <th>age</th>\n",
       "      <td>2.724865e+01</td>\n",
       "      <td>2.581622e+01</td>\n",
       "    </tr>\n",
       "    <tr>\n",
       "      <th>education</th>\n",
       "      <td>9.540541e+00</td>\n",
       "      <td>1.034595e+01</td>\n",
       "    </tr>\n",
       "    <tr>\n",
       "      <th>black</th>\n",
       "      <td>1.513513e-01</td>\n",
       "      <td>8.432432e-01</td>\n",
       "    </tr>\n",
       "    <tr>\n",
       "      <th>hispanic</th>\n",
       "      <td>1.189189e-01</td>\n",
       "      <td>5.945946e-02</td>\n",
       "    </tr>\n",
       "    <tr>\n",
       "      <th>married</th>\n",
       "      <td>3.675676e-01</td>\n",
       "      <td>1.891892e-01</td>\n",
       "    </tr>\n",
       "    <tr>\n",
       "      <th>nodegree</th>\n",
       "      <td>6.918919e-01</td>\n",
       "      <td>7.081081e-01</td>\n",
       "    </tr>\n",
       "    <tr>\n",
       "      <th>re74</th>\n",
       "      <td>1.903317e+03</td>\n",
       "      <td>2.095574e+03</td>\n",
       "    </tr>\n",
       "    <tr>\n",
       "      <th>re75</th>\n",
       "      <td>1.450355e+03</td>\n",
       "      <td>1.532055e+03</td>\n",
       "    </tr>\n",
       "    <tr>\n",
       "      <th>re74_2</th>\n",
       "      <td>1.513308e+07</td>\n",
       "      <td>2.814141e+07</td>\n",
       "    </tr>\n",
       "    <tr>\n",
       "      <th>re75_2</th>\n",
       "      <td>9.819436e+06</td>\n",
       "      <td>1.265475e+07</td>\n",
       "    </tr>\n",
       "  </tbody>\n",
       "</table>\n",
       "</div>"
      ],
      "text/plain": [
       "treat               0.0           1.0\n",
       "age        2.724865e+01  2.581622e+01\n",
       "education  9.540541e+00  1.034595e+01\n",
       "black      1.513513e-01  8.432432e-01\n",
       "hispanic   1.189189e-01  5.945946e-02\n",
       "married    3.675676e-01  1.891892e-01\n",
       "nodegree   6.918919e-01  7.081081e-01\n",
       "re74       1.903317e+03  2.095574e+03\n",
       "re75       1.450355e+03  1.532055e+03\n",
       "re74_2     1.513308e+07  2.814141e+07\n",
       "re75_2     9.819436e+06  1.265475e+07"
      ]
     },
     "execution_count": 180,
     "metadata": {},
     "output_type": "execute_result"
    }
   ],
   "source": [
    "covariate_mean = matching.drop(columns=['ps', 're78']).groupby('treat').mean().T\n",
    "covariate_mean"
   ]
  },
  {
   "cell_type": "code",
   "execution_count": 178,
   "metadata": {},
   "outputs": [
    {
     "data": {
      "text/plain": [
       "age         -1.432434e+00\n",
       "education    8.054056e-01\n",
       "black        6.918919e-01\n",
       "hispanic    -5.945946e-02\n",
       "married     -1.783784e-01\n",
       "nodegree     1.621622e-02\n",
       "re74         1.922572e+02\n",
       "re75         8.170044e+01\n",
       "re74_2       1.300833e+07\n",
       "re75_2       2.835314e+06\n",
       "dtype: float32"
      ]
     },
     "execution_count": 178,
     "metadata": {},
     "output_type": "execute_result"
    }
   ],
   "source": [
    "covariate_mean[1.0] - covariate_mean[0.0]"
   ]
  },
  {
   "cell_type": "code",
   "execution_count": 175,
   "metadata": {},
   "outputs": [],
   "source": [
    "_d['diff'] = np.abs((covariate_mean[1.0] - covariate_mean[0.0])/covariate_std)"
   ]
  },
  {
   "cell_type": "code",
   "execution_count": 176,
   "metadata": {},
   "outputs": [],
   "source": [
    "x = _d['diff'].values\n",
    "labels = _d['diff'].index.tolist()"
   ]
  },
  {
   "cell_type": "code",
   "execution_count": 177,
   "metadata": {},
   "outputs": [
    {
     "data": {
      "text/plain": [
       "<matplotlib.collections.PathCollection at 0x11e1af790>"
      ]
     },
     "execution_count": 177,
     "metadata": {},
     "output_type": "execute_result"
    },
    {
     "data": {
      "image/png": "[encoded data removed]",
      "text/plain": [
       "<Figure size 500x300 with 1 Axes>"
      ]
     },
     "metadata": {
      "image/png": {
       "height": 277,
       "width": 490
      }
     },
     "output_type": "display_data"
    }
   ],
   "source": [
    "plt.scatter(x, labels)"
   ]
  },
  {
   "cell_type": "code",
   "execution_count": null,
   "metadata": {},
   "outputs": [],
   "source": []
  }
 ],
 "metadata": {
  "kernelspec": {
   "display_name": "Python 3",
   "language": "python",
   "name": "python3"
  },
  "language_info": {
   "codemirror_mode": {
    "name": "ipython",
    "version": 3
   },
   "file_extension": ".py",
   "mimetype": "text/x-python",
   "name": "python",
   "nbconvert_exporter": "python",
   "pygments_lexer": "ipython3",
   "version": "3.7.4"
  }
 },
 "nbformat": 4,
 "nbformat_minor": 2
}
