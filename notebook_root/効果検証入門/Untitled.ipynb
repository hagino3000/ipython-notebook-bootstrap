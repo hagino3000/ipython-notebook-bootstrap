{
 "cells": [
  {
   "cell_type": "code",
   "execution_count": 1,
   "metadata": {},
   "outputs": [
    {
     "data": {
      "text/plain": [
       "0.018664047151277015"
      ]
     },
     "execution_count": 1,
     "metadata": {},
     "output_type": "execute_result"
    }
   ],
   "source": [
    "(0.95 * 0.001)/((4995 + 95)/100000)"
   ]
  },
  {
   "cell_type": "code",
   "execution_count": 2,
   "metadata": {},
   "outputs": [
    {
     "data": {
      "text/plain": [
       "0.018664047151277015"
      ]
     },
     "execution_count": 2,
     "metadata": {},
     "output_type": "execute_result"
    }
   ],
   "source": [
    "95/(95 + 4995)"
   ]
  },
  {
   "cell_type": "code",
   "execution_count": 3,
   "metadata": {},
   "outputs": [],
   "source": [
    "N = 100000"
   ]
  },
  {
   "cell_type": "code",
   "execution_count": 4,
   "metadata": {},
   "outputs": [
    {
     "data": {
      "text/plain": [
       "100.0"
      ]
     },
     "execution_count": 4,
     "metadata": {},
     "output_type": "execute_result"
    }
   ],
   "source": [
    "N * 0.001"
   ]
  },
  {
   "cell_type": "code",
   "execution_count": 5,
   "metadata": {},
   "outputs": [
    {
     "data": {
      "text/plain": [
       "4995.0"
      ]
     },
     "execution_count": 5,
     "metadata": {},
     "output_type": "execute_result"
    }
   ],
   "source": [
    "0.05 * (1 - 0.001) * N"
   ]
  },
  {
   "cell_type": "code",
   "execution_count": 10,
   "metadata": {},
   "outputs": [],
   "source": [
    "s = 0.99\n",
    "y = 0.001\n",
    "N = 100000"
   ]
  },
  {
   "cell_type": "code",
   "execution_count": 11,
   "metadata": {},
   "outputs": [
    {
     "data": {
      "text/plain": [
       "0.09016393442622944"
      ]
     },
     "execution_count": 11,
     "metadata": {},
     "output_type": "execute_result"
    }
   ],
   "source": [
    "s * y/((1 - s)*(1 - y) + (s * y))"
   ]
  },
  {
   "cell_type": "code",
   "execution_count": 23,
   "metadata": {},
   "outputs": [
    {
     "data": {
      "text/plain": [
       "0.09016393442622944"
      ]
     },
     "execution_count": 23,
     "metadata": {},
     "output_type": "execute_result"
    }
   ],
   "source": [
    "s = 0.99\n",
    "y = 0.001\n",
    "N = 100000\n",
    "s * y/((1 - s)*(1 - y) + (s * y))"
   ]
  },
  {
   "cell_type": "markdown",
   "metadata": {},
   "source": [
    "99%の確率で感染判定できる検査があったとする。この検査の感度は99%、特異度は99%となる。  \n",
    "つまり感染している人は99%の確率で陽性となり、感染していない人は99%の確率で陰性となる。  \n",
    "\n",
    "\n",
    "【問】全体の感染率が0.1%の時に、検査で陽性が出た時に感染している確率はいくらか\n",
    "\n",
    "- 感染しているか否かを $y \\in \\{0, 1\\}$\n",
    "- 検査結果を $x \\in \\{0, 1\\}$ で陽性が1とする\n",
    "\n",
    "ベイズの定理\n",
    "\n",
    "$\\displaystyle P[y|x] = \\frac{P[x|y]P[y]}{P[x]}$\n",
    "\n",
    "より\n",
    "\n",
    "$\\displaystyle P[y=1 | x=1] = \\frac{P[x=1|y=1]P[y=1]}{P[x=1]}$\n",
    "\n",
    "設定から\n",
    "\n",
    "- $P[y=1] := 0.001$ (全体でみた時の感染率)\n",
    "- $P[x=1|y=1] := 0.99$ (感度そのもの)\n",
    "- $P[x=1] := 0.001*0.99 + (1-0.99)(1-0.001)$ (真陽性+偽陽性)\n"
   ]
  },
  {
   "cell_type": "code",
   "execution_count": 15,
   "metadata": {},
   "outputs": [
    {
     "data": {
      "text/plain": [
       "0.09016393442622944"
      ]
     },
     "execution_count": 15,
     "metadata": {},
     "output_type": "execute_result"
    }
   ],
   "source": [
    "sensitivity = 0.99\n",
    "specificity = 0.99\n",
    "infection_rate = 0.001\n",
    "\n",
    "(infection_rate * sensitivity)/(infection_rate*sensitivity + (1-infection_rate)*(1 - specificity)) "
   ]
  }
 ],
 "metadata": {
  "kernelspec": {
   "display_name": "Python 3",
   "language": "python",
   "name": "python3"
  },
  "language_info": {
   "codemirror_mode": {
    "name": "ipython",
    "version": 3
   },
   "file_extension": ".py",
   "mimetype": "text/x-python",
   "name": "python",
   "nbconvert_exporter": "python",
   "pygments_lexer": "ipython3",
   "version": "3.7.4"
  }
 },
 "nbformat": 4,
 "nbformat_minor": 2
}
