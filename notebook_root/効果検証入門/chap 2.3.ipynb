{
 "cells": [
  {
   "cell_type": "code",
   "execution_count": 8,
   "metadata": {},
   "outputs": [
    {
     "name": "stdout",
     "output_type": "stream",
     "text": [
      "--2020-02-11 23:37:00--  https://github.com/itamarcaspi/experimentdatar/raw/master/data/vouchers.rda\n",
      "github.com (github.com) をDNSに問いあわせています... 52.69.186.44\n",
      "github.com (github.com)|52.69.186.44|:443 に接続しています... 接続しました。\n",
      "HTTP による接続要求を送信しました、応答を待っています... 302 Found\n",
      "場所: https://raw.githubusercontent.com/itamarcaspi/experimentdatar/master/data/vouchers.rda [続く]\n",
      "--2020-02-11 23:37:01--  https://raw.githubusercontent.com/itamarcaspi/experimentdatar/master/data/vouchers.rda\n",
      "raw.githubusercontent.com (raw.githubusercontent.com) をDNSに問いあわせています... 151.101.108.133\n",
      "raw.githubusercontent.com (raw.githubusercontent.com)|151.101.108.133|:443 に接続しています... 接続しました。\n",
      "HTTP による接続要求を送信しました、応答を待っています... 200 OK\n",
      "長さ: 100723 (98K) [application/octet-stream]\n",
      "`vouchers.rda' に保存中\n",
      "\n",
      "vouchers.rda        100%[===================>]  98.36K  --.-KB/s 時間 0.008s     \n",
      "\n",
      "2020-02-11 23:37:01 (11.5 MB/s) - `vouchers.rda' へ保存完了 [100723/100723]\n",
      "\n"
     ]
    }
   ],
   "source": [
    "!wget https://github.com/itamarcaspi/experimentdatar/raw/master/data/vouchers.rda"
   ]
  },
  {
   "cell_type": "code",
   "execution_count": 25,
   "metadata": {},
   "outputs": [
    {
     "name": "stderr",
     "output_type": "stream",
     "text": [
      "/Users/takashinishibayashi/dev/ipython-notebook-bootstrap/env/lib/python3.7/site-packages/rdata/conversion/_conversion.py:495: UserWarning: Missing constructor for R class \"tbl_df\". The constructor for class \"tbl\" will be used instead.\n",
      "  stacklevel=1)\n",
      "/Users/takashinishibayashi/dev/ipython-notebook-bootstrap/env/lib/python3.7/site-packages/rdata/conversion/_conversion.py:495: UserWarning: Missing constructor for R class \"tbl\". The constructor for class \"data.frame\" will be used instead.\n",
      "  stacklevel=1)\n"
     ]
    }
   ],
   "source": [
    "import rdata\n",
    "vouchers_rda = rdata.parser.parse_file('./vouchers.rda')\n",
    "vouchers_df = rdata.conversion.convert(vouchers_rda)['vouchers']"
   ]
  },
  {
   "cell_type": "code",
   "execution_count": 28,
   "metadata": {},
   "outputs": [
    {
     "data": {
      "text/plain": [
       "25330"
      ]
     },
     "execution_count": 28,
     "metadata": {},
     "output_type": "execute_result"
    }
   ],
   "source": [
    "len(vouchers_df)"
   ]
  },
  {
   "cell_type": "code",
   "execution_count": 26,
   "metadata": {},
   "outputs": [
    {
     "data": {
      "text/html": [
       "<div>\n",
       "<style scoped>\n",
       "    .dataframe tbody tr th:only-of-type {\n",
       "        vertical-align: middle;\n",
       "    }\n",
       "\n",
       "    .dataframe tbody tr th {\n",
       "        vertical-align: top;\n",
       "    }\n",
       "\n",
       "    .dataframe thead th {\n",
       "        text-align: right;\n",
       "    }\n",
       "</style>\n",
       "<table border=\"1\" class=\"dataframe\">\n",
       "  <thead>\n",
       "    <tr style=\"text-align: right;\">\n",
       "      <th></th>\n",
       "      <th>ID</th>\n",
       "      <th>BOG95SMP</th>\n",
       "      <th>BOG97SMP</th>\n",
       "      <th>JAM93SMP</th>\n",
       "      <th>SEX</th>\n",
       "      <th>AGE</th>\n",
       "      <th>AGE2</th>\n",
       "      <th>HSVISIT</th>\n",
       "      <th>SCYFNSH</th>\n",
       "      <th>INSCHL</th>\n",
       "      <th>...</th>\n",
       "      <th>REPT</th>\n",
       "      <th>NREPT</th>\n",
       "      <th>FINISH6</th>\n",
       "      <th>FINISH7</th>\n",
       "      <th>FINISH8</th>\n",
       "      <th>SEX_MISS</th>\n",
       "      <th>USNGSCH</th>\n",
       "      <th>HOURSUM</th>\n",
       "      <th>TAB3SMPL</th>\n",
       "      <th>WORKING3</th>\n",
       "    </tr>\n",
       "  </thead>\n",
       "  <tbody>\n",
       "    <tr>\n",
       "      <th>0</th>\n",
       "      <td>NaN</td>\n",
       "      <td>0.0</td>\n",
       "      <td>0.0</td>\n",
       "      <td>0.0</td>\n",
       "      <td>NaN</td>\n",
       "      <td>NaN</td>\n",
       "      <td>NaN</td>\n",
       "      <td>NaN</td>\n",
       "      <td>5.0</td>\n",
       "      <td>NaN</td>\n",
       "      <td>...</td>\n",
       "      <td>NaN</td>\n",
       "      <td>NaN</td>\n",
       "      <td>NaN</td>\n",
       "      <td>NaN</td>\n",
       "      <td>NaN</td>\n",
       "      <td>NaN</td>\n",
       "      <td>NaN</td>\n",
       "      <td>NaN</td>\n",
       "      <td>NaN</td>\n",
       "      <td>NaN</td>\n",
       "    </tr>\n",
       "    <tr>\n",
       "      <th>1</th>\n",
       "      <td>1.0</td>\n",
       "      <td>0.0</td>\n",
       "      <td>0.0</td>\n",
       "      <td>0.0</td>\n",
       "      <td>1.0</td>\n",
       "      <td>NaN</td>\n",
       "      <td>12.0</td>\n",
       "      <td>NaN</td>\n",
       "      <td>5.0</td>\n",
       "      <td>NaN</td>\n",
       "      <td>...</td>\n",
       "      <td>NaN</td>\n",
       "      <td>NaN</td>\n",
       "      <td>NaN</td>\n",
       "      <td>NaN</td>\n",
       "      <td>NaN</td>\n",
       "      <td>NaN</td>\n",
       "      <td>NaN</td>\n",
       "      <td>NaN</td>\n",
       "      <td>NaN</td>\n",
       "      <td>NaN</td>\n",
       "    </tr>\n",
       "    <tr>\n",
       "      <th>2</th>\n",
       "      <td>2.0</td>\n",
       "      <td>0.0</td>\n",
       "      <td>0.0</td>\n",
       "      <td>0.0</td>\n",
       "      <td>0.0</td>\n",
       "      <td>NaN</td>\n",
       "      <td>13.0</td>\n",
       "      <td>NaN</td>\n",
       "      <td>5.0</td>\n",
       "      <td>NaN</td>\n",
       "      <td>...</td>\n",
       "      <td>NaN</td>\n",
       "      <td>NaN</td>\n",
       "      <td>NaN</td>\n",
       "      <td>NaN</td>\n",
       "      <td>NaN</td>\n",
       "      <td>NaN</td>\n",
       "      <td>NaN</td>\n",
       "      <td>NaN</td>\n",
       "      <td>NaN</td>\n",
       "      <td>NaN</td>\n",
       "    </tr>\n",
       "    <tr>\n",
       "      <th>3</th>\n",
       "      <td>3.0</td>\n",
       "      <td>1.0</td>\n",
       "      <td>0.0</td>\n",
       "      <td>0.0</td>\n",
       "      <td>0.0</td>\n",
       "      <td>14.0</td>\n",
       "      <td>12.0</td>\n",
       "      <td>0.0</td>\n",
       "      <td>8.0</td>\n",
       "      <td>1.0</td>\n",
       "      <td>...</td>\n",
       "      <td>0.0</td>\n",
       "      <td>0.0</td>\n",
       "      <td>1.0</td>\n",
       "      <td>1.0</td>\n",
       "      <td>1.0</td>\n",
       "      <td>0.0</td>\n",
       "      <td>1.0</td>\n",
       "      <td>0.0</td>\n",
       "      <td>1.0</td>\n",
       "      <td>0.0</td>\n",
       "    </tr>\n",
       "    <tr>\n",
       "      <th>4</th>\n",
       "      <td>4.0</td>\n",
       "      <td>1.0</td>\n",
       "      <td>0.0</td>\n",
       "      <td>0.0</td>\n",
       "      <td>1.0</td>\n",
       "      <td>14.0</td>\n",
       "      <td>12.0</td>\n",
       "      <td>0.0</td>\n",
       "      <td>8.0</td>\n",
       "      <td>1.0</td>\n",
       "      <td>...</td>\n",
       "      <td>0.0</td>\n",
       "      <td>0.0</td>\n",
       "      <td>1.0</td>\n",
       "      <td>1.0</td>\n",
       "      <td>1.0</td>\n",
       "      <td>0.0</td>\n",
       "      <td>1.0</td>\n",
       "      <td>0.0</td>\n",
       "      <td>1.0</td>\n",
       "      <td>0.0</td>\n",
       "    </tr>\n",
       "  </tbody>\n",
       "</table>\n",
       "<p>5 rows × 89 columns</p>\n",
       "</div>"
      ],
      "text/plain": [
       "    ID  BOG95SMP  BOG97SMP  JAM93SMP  SEX   AGE  AGE2  HSVISIT  SCYFNSH  \\\n",
       "0  NaN       0.0       0.0       0.0  NaN   NaN   NaN      NaN      5.0   \n",
       "1  1.0       0.0       0.0       0.0  1.0   NaN  12.0      NaN      5.0   \n",
       "2  2.0       0.0       0.0       0.0  0.0   NaN  13.0      NaN      5.0   \n",
       "3  3.0       1.0       0.0       0.0  0.0  14.0  12.0      0.0      8.0   \n",
       "4  4.0       1.0       0.0       0.0  1.0  14.0  12.0      0.0      8.0   \n",
       "\n",
       "   INSCHL  ...  REPT  NREPT  FINISH6  FINISH7  FINISH8  SEX_MISS  USNGSCH  \\\n",
       "0     NaN  ...   NaN    NaN      NaN      NaN      NaN       NaN      NaN   \n",
       "1     NaN  ...   NaN    NaN      NaN      NaN      NaN       NaN      NaN   \n",
       "2     NaN  ...   NaN    NaN      NaN      NaN      NaN       NaN      NaN   \n",
       "3     1.0  ...   0.0    0.0      1.0      1.0      1.0       0.0      1.0   \n",
       "4     1.0  ...   0.0    0.0      1.0      1.0      1.0       0.0      1.0   \n",
       "\n",
       "   HOURSUM  TAB3SMPL  WORKING3  \n",
       "0      NaN       NaN       NaN  \n",
       "1      NaN       NaN       NaN  \n",
       "2      NaN       NaN       NaN  \n",
       "3      0.0       1.0       0.0  \n",
       "4      0.0       1.0       0.0  \n",
       "\n",
       "[5 rows x 89 columns]"
      ]
     },
     "execution_count": 26,
     "metadata": {},
     "output_type": "execute_result"
    }
   ],
   "source": [
    "vouchers_df.head()"
   ]
  },
  {
   "cell_type": "code",
   "execution_count": 27,
   "metadata": {},
   "outputs": [
    {
     "data": {
      "text/plain": [
       "Index(['ID', 'BOG95SMP', 'BOG97SMP', 'JAM93SMP', 'SEX', 'AGE', 'AGE2',\n",
       "       'HSVISIT', 'SCYFNSH', 'INSCHL', 'PRSCH_C', 'PRSCHA_1', 'PRSCHA_2',\n",
       "       'VOUCH0', 'BOG95ASD', 'BOG97ASD', 'JAM93ASD', 'DBOGOTA', 'DJAMUNDI',\n",
       "       'D1995', 'D1997', 'RESPONSE', 'TEST_TAK', 'SEX_NAME', 'SVY', 'D1993',\n",
       "       'PHONE', 'DAREA1', 'DAREA2', 'DAREA3', 'DAREA4', 'DAREA5', 'DAREA6',\n",
       "       'DAREA7', 'DAREA8', 'DAREA9', 'DAREA10', 'DAREA11', 'DAREA12',\n",
       "       'DAREA13', 'DAREA14', 'DAREA15', 'DAREA16', 'DAREA17', 'DAREA18',\n",
       "       'DAREA19', 'DMONTH1', 'DMONTH2', 'DMONTH3', 'DMONTH4', 'DMONTH5',\n",
       "       'DMONTH6', 'DMONTH7', 'DMONTH8', 'DMONTH9', 'DMONTH10', 'DMONTH11',\n",
       "       'DMONTH12', 'BOG95', 'BOG97', 'MOM_SCH', 'MOM_AGE', 'MOM_MW', 'DAD_SCH',\n",
       "       'DAD_AGE', 'DAD_MW', 'SEX2', 'STRATA1', 'STRATA2', 'STRATA3', 'STRATA4',\n",
       "       'STRATA5', 'STRATA6', 'STRATAMS', 'REPT6', 'TOTSCYRS', 'HASCHILD',\n",
       "       'MARRIED', 'WORKING', 'REPT', 'NREPT', 'FINISH6', 'FINISH7', 'FINISH8',\n",
       "       'SEX_MISS', 'USNGSCH', 'HOURSUM', 'TAB3SMPL', 'WORKING3'],\n",
       "      dtype='object')"
      ]
     },
     "execution_count": 27,
     "metadata": {},
     "output_type": "execute_result"
    }
   ],
   "source": [
    "vouchers_df.columns"
   ]
  },
  {
   "cell_type": "code",
   "execution_count": 31,
   "metadata": {},
   "outputs": [],
   "source": [
    "c_treatment = ['VOUCH0']\n",
    "c_ys = [\n",
    "    'TOTSCYRS', 'INSCHL', 'PRSCH_C', 'USNGSCH', 'PRSCHA_1',\n",
    "    'FINISH6', 'FINISH7', 'FINISH8', 'REPT6', 'REPT', 'NREPT',\n",
    "    'MARRIED', 'HASCHILD', 'HOURSUM', 'WORKING3'\n",
    "]\n",
    "c_covariates = [\n",
    "    'DMONTH1', 'DMONTH2', 'DMONTH3', 'DMONTH4', 'DMONTH5',\n",
    "    'DMONTH6', 'DMONTH7', 'DMONTH8', 'DMONTH9', 'DMONTH10', 'DMONTH11',\n",
    "    'DMONTH12', 'SEX2', 'SVY', 'HSVISIT', 'AGE', 'D1993', 'D1995', 'D1997',\n",
    "    'STRATA1', 'STRATA2', 'STRATA3', 'STRATA4', 'STRATA5', 'STRATA6', 'STRATAMS'\n",
    "]"
   ]
  },
  {
   "cell_type": "code",
   "execution_count": 83,
   "metadata": {},
   "outputs": [],
   "source": [
    "import statsmodels.api as sm\n",
    "\n",
    "def fit(df, y_column, with_covariates):\n",
    "        y = df[y_column]\n",
    "        if with_covariates:\n",
    "            x_cols = c_treatment + c_covariates\n",
    "        else:\n",
    "            x_cols = c_treatment\n",
    "        result = sm.OLS(exog=df[x_cols][y.notna()].fillna(0).assign(intercept=1), endog=y[y.notna()]).fit()\n",
    "        return result"
   ]
  },
  {
   "cell_type": "code",
   "execution_count": 84,
   "metadata": {},
   "outputs": [],
   "source": [
    "results = {}\n",
    "for y_col in c_ys:\n",
    "    for with_covariate in [True, False]:\n",
    "        results[(y_col, with_covariate)] = fit(vouchers_df, y_col, with_covariate)"
   ]
  },
  {
   "cell_type": "markdown",
   "metadata": {},
   "source": [
    "## 2.2.3 私立学校への通学と割引券の利用についての分析\n",
    "\n",
    "- PRISCHA_1: 6年生の開始時に私立学校に在籍していたか\n",
    "- USNGSCH: 調査期間中に何かしらの奨学金を使ったか"
   ]
  },
  {
   "cell_type": "code",
   "execution_count": 89,
   "metadata": {},
   "outputs": [
    {
     "data": {
      "text/plain": [
       "VOUCH0       0.063258\n",
       "intercept    0.856507\n",
       "dtype: float64"
      ]
     },
     "execution_count": 89,
     "metadata": {},
     "output_type": "execute_result"
    }
   ],
   "source": [
    "results[('PRSCHA_1', False)].params"
   ]
  },
  {
   "cell_type": "code",
   "execution_count": 90,
   "metadata": {},
   "outputs": [
    {
     "data": {
      "text/plain": [
       "VOUCH0       0.060799\n",
       "DMONTH1      0.206410\n",
       "DMONTH2      0.093321\n",
       "DMONTH3      0.106854\n",
       "DMONTH4      0.139479\n",
       "DMONTH5      0.097242\n",
       "DMONTH6      0.076077\n",
       "DMONTH7      0.102665\n",
       "DMONTH8      0.117797\n",
       "DMONTH9      0.178576\n",
       "DMONTH10    -0.122592\n",
       "DMONTH11     0.054107\n",
       "DMONTH12    -0.062983\n",
       "SEX2        -0.008625\n",
       "SVY         -0.017306\n",
       "HSVISIT     -0.039142\n",
       "AGE         -0.018787\n",
       "D1993       -0.201891\n",
       "D1995       -0.062900\n",
       "D1997       -0.103960\n",
       "STRATA1      0.138593\n",
       "STRATA2      0.145036\n",
       "STRATA3      0.118454\n",
       "STRATA4      0.143637\n",
       "STRATA5      0.229758\n",
       "STRATA6      0.116545\n",
       "STRATAMS     0.094929\n",
       "intercept    0.986953\n",
       "dtype: float64"
      ]
     },
     "execution_count": 90,
     "metadata": {},
     "output_type": "execute_result"
    }
   ],
   "source": [
    "results[('PRSCHA_1', True)].params"
   ]
  },
  {
   "cell_type": "code",
   "execution_count": 91,
   "metadata": {},
   "outputs": [
    {
     "data": {
      "text/plain": [
       "VOUCH0       0.541771\n",
       "intercept    0.063877\n",
       "dtype: float64"
      ]
     },
     "execution_count": 91,
     "metadata": {},
     "output_type": "execute_result"
    }
   ],
   "source": [
    "results[('USNGSCH', False)].params"
   ]
  },
  {
   "cell_type": "code",
   "execution_count": 92,
   "metadata": {},
   "outputs": [
    {
     "data": {
      "text/plain": [
       "VOUCH0       0.536190\n",
       "DMONTH1      0.024770\n",
       "DMONTH2      0.114709\n",
       "DMONTH3      0.052053\n",
       "DMONTH4      0.036935\n",
       "DMONTH5      0.047994\n",
       "DMONTH6      0.020503\n",
       "DMONTH7      0.070713\n",
       "DMONTH8      0.104850\n",
       "DMONTH9      0.206060\n",
       "DMONTH10    -0.067310\n",
       "DMONTH11     0.074279\n",
       "DMONTH12     0.066406\n",
       "SEX2        -0.027190\n",
       "SVY         -0.085128\n",
       "HSVISIT     -0.050555\n",
       "AGE         -0.043307\n",
       "D1993       -0.106938\n",
       "D1995       -0.222503\n",
       "D1997       -0.191734\n",
       "STRATA1      0.119298\n",
       "STRATA2      0.171270\n",
       "STRATA3      0.123264\n",
       "STRATA4      0.123376\n",
       "STRATA5     -0.192964\n",
       "STRATA6      0.311966\n",
       "STRATAMS     0.095752\n",
       "intercept    0.751962\n",
       "dtype: float64"
      ]
     },
     "execution_count": 92,
     "metadata": {},
     "output_type": "execute_result"
    }
   ],
   "source": [
    "results[('USNGSCH', True)].params"
   ]
  },
  {
   "cell_type": "markdown",
   "metadata": {},
   "source": [
    "## 2.3.4 割引券は留年を減らしているか?"
   ]
  },
  {
   "cell_type": "code",
   "execution_count": 131,
   "metadata": {},
   "outputs": [],
   "source": [
    "x = []\n",
    "y = []\n",
    "y_err = []\n",
    "for col in ['FINISH6', 'FINISH7', 'FINISH8','INSCHL', 'NREPT', 'PRSCH_C', 'REPT', 'REPT6']:\n",
    "    x.append(col)\n",
    "    _y = results[(col, True)].params['VOUCH0']\n",
    "    # 上側誤差と下側誤差が同じ\n",
    "    _err = results[(col, True)].conf_int().loc['VOUCH0'].values[1] - _y\n",
    "    y_err.append(_err)\n",
    "    y.append(_y)"
   ]
  },
  {
   "cell_type": "code",
   "execution_count": 139,
   "metadata": {},
   "outputs": [
    {
     "data": {
      "text/plain": [
       "Text(0.5, 1.0, '留年の傾向')"
      ]
     },
     "execution_count": 139,
     "metadata": {},
     "output_type": "execute_result"
    },
    {
     "data": {
      "image/png": "[encoded data removed]",
      "text/plain": [
       "<Figure size 500x300 with 1 Axes>"
      ]
     },
     "metadata": {
      "image/png": {
       "height": 341,
       "width": 496
      }
     },
     "output_type": "display_data"
    }
   ],
   "source": [
    "plt.errorbar(x, y, fmt='o', yerr=y_err, capsize=3)\n",
    "plt.xticks(rotation=45)\n",
    "plt.ylim(-0.12, 0.22)\n",
    "plt.ylabel('estimate')\n",
    "plt.title('留年の傾向')"
   ]
  },
  {
   "cell_type": "code",
   "execution_count": null,
   "metadata": {},
   "outputs": [],
   "source": []
  }
 ],
 "metadata": {
  "kernelspec": {
   "display_name": "Python 3",
   "language": "python",
   "name": "python3"
  },
  "language_info": {
   "codemirror_mode": {
    "name": "ipython",
    "version": 3
   },
   "file_extension": ".py",
   "mimetype": "text/x-python",
   "name": "python",
   "nbconvert_exporter": "python",
   "pygments_lexer": "ipython3",
   "version": "3.7.4"
  }
 },
 "nbformat": 4,
 "nbformat_minor": 2
}
